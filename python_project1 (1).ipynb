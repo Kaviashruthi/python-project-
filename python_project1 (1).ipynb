{
  "cells": [
    {
      "cell_type": "markdown",
      "metadata": {
        "id": "89I5KVwnHolN"
      },
      "source": [
        "Q1.You are working in a bank, and you have been given two lists of the employees who worked in 2021.\n",
        " Employees’ names in list 1 are Ramesh, Suresh, Mahesh, Ali, Jacob, and Saritha.\n",
        " List 2 contains the names of Ali, Mukesh, Mahesh, Jacob, Sai, and Sarita.\n",
        "  Please write a program that helps to identify people who are common in both lists.\n",
        "   Please do not use any in-built function."
      ]
    },
    {
      "cell_type": "code",
      "execution_count": null,
      "metadata": {
        "colab": {
          "base_uri": "https://localhost:8080/"
        },
        "id": "leyYz5DnGi2B",
        "outputId": "be85f531-4f73-4592-b542-c179ffc1f29d"
      },
      "outputs": [
        {
          "name": "stdout",
          "output_type": "stream",
          "text": [
            "Common employees are : ['Mahesh', 'Ali', 'Jacob']\n"
          ]
        }
      ],
      "source": [
        "emp_1 = ['Ramesh','Suresh','Mahesh','Ali','Jacob','Saritha']\n",
        "emp_2 = ['Ali','Mukesh','Mahesh','Jacob','Sai','Sarita']\n",
        "common_employees = []\n",
        "for  i in emp_1:\n",
        "  if i in emp_2:\n",
        "    common_employees.append(i)\n",
        "\n",
        "print(\"Common employees are :\" , common_employees)"
      ]
    },
    {
      "cell_type": "markdown",
      "metadata": {
        "id": "ZYpfW8nvsXch"
      },
      "source": [
        "Q2: While entering data, someone entered a few names as a common string “Ramesh Suresh Mohit”. Please write a program which separates all the names and converts them into a list. Once converted into a list, please write a program that adds their age.\n",
        "\n",
        "\n",
        "Ramesh:  25\n",
        "\n",
        "Suresh: 22\n",
        "\n",
        "Mohit: 26"
      ]
    },
    {
      "cell_type": "code",
      "execution_count": null,
      "metadata": {
        "colab": {
          "base_uri": "https://localhost:8080/"
        },
        "id": "slB97_CmG-ur",
        "outputId": "4f0cf642-dd0c-4ab8-cf1f-8e745e9aa5da"
      },
      "outputs": [
        {
          "name": "stdout",
          "output_type": "stream",
          "text": [
            "['Ramesh', 'Suresh', 'Mohit']\n",
            "Ramesh : 25\n",
            "Suresh : 22\n",
            "Mohit : 26\n"
          ]
        }
      ],
      "source": [
        "c_name=\"Ramesh Suresh Mohit\"\n",
        "name=list(c_name.split())\n",
        "print(name)\n",
        "age=[25,22,26]\n",
        "print(name[0],':',age[0])\n",
        "print(name[1],':',age[1])\n",
        "print(name[2],':',age[2])"
      ]
    },
    {
      "cell_type": "markdown",
      "metadata": {
        "id": "jCTRSey5q_od"
      },
      "source": [
        "3..You are working in a medical store. A patient came to your medical store and asked to buy 2 strips of paracetamol, 3 strips of azithromycin, and 5 strips of Vitamin C. One strip of paracetamol costs Rs 35, one strip of azithromycin costs Rs 49, and one strip of vitamin c costs Rs. 33. Patient gave you Rs 2000. Please tell us what is the total cost of each medicine, the total cost of all medicine, and how much money you refunded to the patient.  "
      ]
    },
    {
      "cell_type": "code",
      "execution_count": null,
      "metadata": {
        "id": "quDzcKt5rpAY"
      },
      "outputs": [],
      "source": [
        "a=input(\"enter the number of paracetamol: \\n\")\n",
        "para=35*a\n",
        "print(f\"total paracetamol {para}\")\n",
        "b=int(input(\"enter the number of azithromycin: \\n\"))\n",
        "azi=49*b\n",
        "print(f\"total azithromycin {azi}\")\n",
        "c=int(input(\"enter the number of vitamin C: \\n\"))\n",
        "vita_C=33*c\n",
        "print(f\"total vitamin c {vita_C}\")\n",
        "total_cost=para+azi+vita_C\n",
        "print(f\"total cost {total_cost}\")\n",
        "patient_payment=int(input(\" enter patient amount: \\n\"))\n",
        "refund=patient_payment-total_cost\n",
        "print(f\" refunded to the patient {refund}\")"
      ]
    },
    {
      "cell_type": "markdown",
      "metadata": {
        "id": "vlHUy3YiH1vK"
      },
      "source": [
        "Q4 .Accept a sentence as input and find the number of vowels in it.\n",
        "Assume that the sentence has no punctuation marks. For example, I am learning python contains 6 vowels.\n",
        "This function should be applicable for all other different sentences."
      ]
    },
    {
      "cell_type": "code",
      "execution_count": null,
      "metadata": {
        "id": "nVmmiYOFP4X_"
      },
      "outputs": [],
      "source": [
        "sentence = input('Enter a string:')\n",
        "vowels = 'A,a,E,e,I,i,O,o,U,u'\n",
        "Count = 0\n",
        "for each_char in sentence:\n",
        "    if each_char in vowels:\n",
        "        Count += 1\n",
        "print('There are {} vowels in the string: \\'{}\\''.format(Count,sentence))"
      ]
    },
    {
      "cell_type": "markdown",
      "metadata": {
        "id": "jd_90xdlH_m-"
      },
      "source": [
        "Q5. you have been appointed by the election commission to create a website.\n",
        " Your first task is to work on a program which tells candidates if they are eligible for voting or not.\n",
        "  If they are eligible, your output should be ‘Congrats! You are eligible’; otherwise, it should tell that you have to return after X number of years.\n",
        " The eligibility criteria for voting is 18 years."
      ]
    },
    {
      "cell_type": "code",
      "execution_count": null,
      "metadata": {
        "id": "VYiHN0EDHKti"
      },
      "outputs": [],
      "source": [
        "cand_age=input()\n",
        "z=18-cand_age\n",
        "if cand_age>=18:\n",
        "  print(\"‘Congrats! You are eligible’\")\n",
        "else:\n",
        "  print(f\"you have to return after {z} number of years\")"
      ]
    },
    {
      "cell_type": "markdown",
      "metadata": {
        "id": "b7PQfLJTIER5"
      },
      "source": [
        "Q6.Given a list of integers, find the cumulative sum of the elements of the list and store them in another list. [1, 2, 3, 4, 5]"
      ]
    },
    {
      "cell_type": "code",
      "execution_count": null,
      "metadata": {
        "colab": {
          "base_uri": "https://localhost:8080/"
        },
        "id": "wuKu6WRFHROF",
        "outputId": "dbb494ee-6c02-43a2-cc55-1c10dbf68280"
      },
      "outputs": [
        {
          "name": "stdout",
          "output_type": "stream",
          "text": [
            "[1, 3, 6, 10, 15]\n"
          ]
        }
      ],
      "source": [
        "list1=[1, 2, 3, 4, 5]\n",
        "new_list=[]\n",
        "j=0\n",
        "for i in range(0,len(list1)):\n",
        "  j=j+list1[i]\n",
        "  new_list.append(j)\n",
        "print(new_list)"
      ]
    },
    {
      "cell_type": "markdown",
      "metadata": {
        "id": "O8iAJrVoISe0"
      },
      "source": [
        "Q7.WAP to encode a message entered by user as per below conditions:\n",
        "for every word in the sentence,\n",
        "\n",
        "1. If the word starts with a vowel, encode it as first and last letter of the word.\n",
        "\n",
        "2. If the word starts with a consonant, remove all vowels from it.\n",
        "\n",
        "Ensure the case insensitive comparisions/checks are performed.\n",
        "Please enter your text:The quick brown fox used to sleep inside this box\n",
        "Encoded Msg: Th qck brwn fx ud t slp ie ths bx"
      ]
    },
    {
      "cell_type": "code",
      "execution_count": null,
      "metadata": {
        "colab": {
          "background_save": true
        },
        "id": "hpG7Gwf4hf73",
        "outputId": "06896902-91f1-494f-c00a-aee4477c9896"
      },
      "outputs": [
        {
          "name": "stdout",
          "output_type": "stream",
          "text": [
            "encode msg: Th qck brwn fx ud t slp ie ths bx "
          ]
        }
      ],
      "source": [
        "s=input(\"please enter your text: \")\n",
        "print(\"encode msg:\",end=\" \")\n",
        "s1=s.split()\n",
        "for i in range(len(s1)):\n",
        "  s2=[j for j in s1[i]]\n",
        "  if s2[0] in \"aeiouAEIOU\":\n",
        "    s3=s2[0]+s2[len(s2)-1]\n",
        "    print(s3,end=' ')\n",
        "  else:\n",
        "    s4=''\n",
        "    for k in s2:\n",
        "      if k not in 'aeiouAEIOU':\n",
        "        s4=s4+k\n",
        "    print(s4,end=\" \")\n"
      ]
    },
    {
      "cell_type": "markdown",
      "metadata": {
        "id": "txobOC6ZIYnF"
      },
      "source": [
        "Q8.Write a program to implement run length encoding of a string\n",
        "RLE:Consecutive repetition of a character has to be replaced with the count of occurances and the character.\n",
        "Enter your string :aabbbccdddae\n",
        "\n",
        "Encoded: 2a3b2c3d1a1e"
      ]
    },
    {
      "cell_type": "code",
      "execution_count": null,
      "metadata": {
        "colab": {
          "base_uri": "https://localhost:8080/"
        },
        "id": "Z6H1NIzc2MZ2",
        "outputId": "54be7c81-0035-4014-8af8-0a54caf40ad7"
      },
      "outputs": [
        {
          "name": "stdout",
          "output_type": "stream",
          "text": [
            "encoded: 2a3b2c2d1a1e\n"
          ]
        }
      ],
      "source": [
        "input=\"aabbbccddae\"\n",
        "s=1\n",
        "en= ' '\n",
        "for i in range(0,len(input)-1):\n",
        "  if input[i]==input[i+1]:\n",
        "    s=s+1\n",
        "  else:\n",
        "    en=en+str(s)+input[i]\n",
        "    s=1\n",
        "en=en+str(s)+input[-1]\n",
        "\n",
        "print(f\"encoded:{en}\")\n"
      ]
    }
  ],
  "metadata": {
    "colab": {
      "provenance": []
    },
    "kernelspec": {
      "display_name": "Python 3",
      "name": "python3"
    },
    "language_info": {
      "name": "python"
    }
  },
  "nbformat": 4,
  "nbformat_minor": 0
}